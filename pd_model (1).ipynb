{
 "cells": [
  {
   "cell_type": "markdown",
   "id": "454fe813",
   "metadata": {},
   "source": [
    "## Data Gathering"
   ]
  },
  {
   "cell_type": "code",
   "execution_count": 1,
   "id": "b093e7d8",
   "metadata": {},
   "outputs": [],
   "source": [
    "import os\n",
    "import pandas as pd\n",
    "\n",
    "# Paths\n",
    "sensor_data_path = \"dataset/users_timeXYZ\"\n",
    "activity_labels_file = \"dataset/TrainActivities.csv\"\n",
    "\n",
    "# Step 1: Load Activity Labels\n",
    "activities = pd.read_csv(activity_labels_file)"
   ]
  },
  {
   "cell_type": "code",
   "execution_count": 2,
   "id": "a812c08c",
   "metadata": {},
   "outputs": [
    {
     "data": {
      "text/html": [
       "<div>\n",
       "<style scoped>\n",
       "    .dataframe tbody tr th:only-of-type {\n",
       "        vertical-align: middle;\n",
       "    }\n",
       "\n",
       "    .dataframe tbody tr th {\n",
       "        vertical-align: top;\n",
       "    }\n",
       "\n",
       "    .dataframe thead th {\n",
       "        text-align: right;\n",
       "    }\n",
       "</style>\n",
       "<table border=\"1\" class=\"dataframe\">\n",
       "  <thead>\n",
       "    <tr style=\"text-align: right;\">\n",
       "      <th></th>\n",
       "      <th>ID</th>\n",
       "      <th>Activity Type ID</th>\n",
       "      <th>Activity Type</th>\n",
       "      <th>Started</th>\n",
       "      <th>Finished</th>\n",
       "      <th>Updated</th>\n",
       "      <th>Subject</th>\n",
       "    </tr>\n",
       "  </thead>\n",
       "  <tbody>\n",
       "    <tr>\n",
       "      <th>0</th>\n",
       "      <td>1130251</td>\n",
       "      <td>2806</td>\n",
       "      <td>1 (FACING camera) Sit and stand</td>\n",
       "      <td>2024-09-01 21:16:00+00:00</td>\n",
       "      <td>2024-09-01 21:16:00+00:00</td>\n",
       "      <td>2024/09/02 6:16</td>\n",
       "      <td>U22</td>\n",
       "    </tr>\n",
       "    <tr>\n",
       "      <th>1</th>\n",
       "      <td>1130254</td>\n",
       "      <td>2807</td>\n",
       "      <td>2 (FACING camera) both hands SHAKING (sitting ...</td>\n",
       "      <td>2024-09-01 21:17:00+00:00</td>\n",
       "      <td>2024-09-01 21:17:00+00:00</td>\n",
       "      <td>2024/09/02 6:17</td>\n",
       "      <td>U22</td>\n",
       "    </tr>\n",
       "    <tr>\n",
       "      <th>2</th>\n",
       "      <td>1130257</td>\n",
       "      <td>2807</td>\n",
       "      <td>2 (FACING camera) both hands SHAKING (sitting ...</td>\n",
       "      <td>2024-09-01 21:18:00+00:00</td>\n",
       "      <td>2024-09-01 21:18:00+00:00</td>\n",
       "      <td>2024/09/02 6:18</td>\n",
       "      <td>U22</td>\n",
       "    </tr>\n",
       "  </tbody>\n",
       "</table>\n",
       "</div>"
      ],
      "text/plain": [
       "        ID  Activity Type ID  \\\n",
       "0  1130251              2806   \n",
       "1  1130254              2807   \n",
       "2  1130257              2807   \n",
       "\n",
       "                                       Activity Type  \\\n",
       "0                    1 (FACING camera) Sit and stand   \n",
       "1  2 (FACING camera) both hands SHAKING (sitting ...   \n",
       "2  2 (FACING camera) both hands SHAKING (sitting ...   \n",
       "\n",
       "                    Started                  Finished          Updated Subject  \n",
       "0 2024-09-01 21:16:00+00:00 2024-09-01 21:16:00+00:00  2024/09/02 6:16     U22  \n",
       "1 2024-09-01 21:17:00+00:00 2024-09-01 21:17:00+00:00  2024/09/02 6:17     U22  \n",
       "2 2024-09-01 21:18:00+00:00 2024-09-01 21:18:00+00:00  2024/09/02 6:18     U22  "
      ]
     },
     "execution_count": 2,
     "metadata": {},
     "output_type": "execute_result"
    }
   ],
   "source": [
    "activities['Started'] = pd.to_datetime(activities['Started'], format='%Y/%m/%d %H:%M', errors='coerce') \\\n",
    "    .dt.tz_localize('Asia/Tokyo') \\\n",
    "    .dt.tz_convert('UTC')\n",
    "\n",
    "activities['Finished'] = pd.to_datetime(activities['Finished'], format='%Y/%m/%d %H:%M', errors='coerce') \\\n",
    "    .dt.tz_localize('Asia/Tokyo') \\\n",
    "    .dt.tz_convert('UTC')\n",
    "\n",
    "activities.head(3)"
   ]
  },
  {
   "cell_type": "code",
   "execution_count": 3,
   "id": "b196d099",
   "metadata": {},
   "outputs": [
    {
     "name": "stdout",
     "output_type": "stream",
     "text": [
      "Loading sensor data...\n",
      "Total loaded sensor data: (2045326, 4)\n",
      "Matching sensor data with activity labels...\n",
      "Matched 450 rows for 2 (FACING camera) both hands SHAKING (sitting position) (Subject U22).\n",
      "Matched 451 rows for 3 Stand up from chair - both hands with SHAKING (Subject U22).\n",
      "Matched 459 rows for 4 (Sideway) Sit & stand (Subject U22).\n",
      "Matched 450 rows for 5 (Sideway) both hands SHAKING (sitting) (Subject U22).\n",
      "Matched 450 rows for 6 (Sideway) STAND up with - both hands SHAKING (Subject U22).\n",
      "Matched 551 rows for 9 Walk & STOP/frozen, full body shaking, rotate then return back (Subject U22).\n",
      "Matched 552 rows for 10 Slow walk (SHAKING hands/body, tiny step, head forward) (Subject U22).\n",
      "Matched 450 rows for 10 Slow walk (SHAKING hands/body, tiny step, head forward) (Subject U22).\n",
      "Matched 550 rows for 10 Slow walk (SHAKING hands/body, tiny step, head forward) (Subject U22).\n",
      "Matched 449 rows for 3 Stand up from chair - both hands with SHAKING (Subject U21).\n",
      "Matched 499 rows for 6 (Sideway) STAND up with - both hands SHAKING (Subject U21).\n",
      "Matched 653 rows for 6 (Sideway) STAND up with - both hands SHAKING (Subject U21).\n",
      "Matched 530 rows for 9 Walk & STOP/frozen, full body shaking, rotate then return back (Subject U21).\n",
      "Matched 461 rows for 3 Stand up from chair - both hands with SHAKING (Subject U4).\n",
      "Matched 550 rows for 4 (Sideway) Sit & stand (Subject U4).\n",
      "Matched 451 rows for 6 (Sideway) STAND up with - both hands SHAKING (Subject U4).\n",
      "Matched 1 rows for 6 (Sideway) STAND up with - both hands SHAKING (Subject U4).\n",
      "Matched 649 rows for 5 (Sideway) both hands SHAKING (sitting) (Subject U4).\n",
      "Matched 450 rows for 7 Cool down - sitting/relax (Subject U4).\n",
      "Matched 550 rows for 9 Walk & STOP/frozen, full body shaking, rotate then return back (Subject U4).\n",
      "Matched 461 rows for 9 Walk & STOP/frozen, full body shaking, rotate then return back (Subject U4).\n",
      "Matched 527 rows for 10 Slow walk (SHAKING hands/body, tiny step, head forward) (Subject U4).\n",
      "Matched 731 rows for 10 Slow walk (SHAKING hands/body, tiny step, head forward) (Subject U4).\n",
      "Matched 460 rows for 1 (FACING camera) Sit and stand (Subject U5).\n",
      "Matched 463 rows for 2 (FACING camera) both hands SHAKING (sitting position) (Subject U5).\n",
      "Matched 450 rows for 5 (Sideway) both hands SHAKING (sitting) (Subject U5).\n",
      "Matched 641 rows for 6 (Sideway) STAND up with - both hands SHAKING (Subject U5).\n",
      "Matched 451 rows for 8 Walk (LEFT --> Right --> Left) (Subject U5).\n",
      "Matched 477 rows for 9 Walk & STOP/frozen, full body shaking, rotate then return back (Subject U5).\n",
      "Matched 783 rows for 10 Slow walk (SHAKING hands/body, tiny step, head forward) (Subject U5).\n",
      "Matched 1463 rows for 10 Slow walk (SHAKING hands/body, tiny step, head forward) (Subject U5).\n",
      "Matched 450 rows for 4 (Sideway) Sit & stand (Subject U1).\n",
      "Matched 449 rows for 7 Cool down - sitting/relax (Subject U1).\n",
      "Matched 481 rows for 9 Walk & STOP/frozen, full body shaking, rotate then return back (Subject U1).\n",
      "Matched 489 rows for 10 Slow walk (SHAKING hands/body, tiny step, head forward) (Subject U1).\n",
      "Matched 550 rows for 2 (FACING camera) both hands SHAKING (sitting position) (Subject U2).\n",
      "Matched 451 rows for 3 Stand up from chair - both hands with SHAKING (Subject U2).\n",
      "Matched 447 rows for 6 (Sideway) STAND up with - both hands SHAKING (Subject U2).\n",
      "Matched 463 rows for 5 (Sideway) both hands SHAKING (sitting) (Subject U2).\n",
      "Matched 448 rows for 8 Walk (LEFT --> Right --> Left) (Subject U2).\n",
      "Matched 550 rows for 9 Walk & STOP/frozen, full body shaking, rotate then return back (Subject U2).\n",
      "Matched 674 rows for 10 Slow walk (SHAKING hands/body, tiny step, head forward) (Subject U2).\n",
      "Matched 1685 rows for 2 (FACING camera) both hands SHAKING (sitting position) (Subject U3).\n",
      "Matched 1685 rows for 2 (FACING camera) both hands SHAKING (sitting position) (Subject U3).\n",
      "Matched 1396 rows for 5 (Sideway) both hands SHAKING (sitting) (Subject U3).\n",
      "Matched 1 rows for 1 (FACING camera) Sit and stand (Subject U6).\n",
      "Matched 1 rows for 1 (FACING camera) Sit and stand (Subject U6).\n",
      "Matched 2491 rows for 2 (FACING camera) both hands SHAKING (sitting position) (Subject U6).\n",
      "Matched 3102 rows for 3 Stand up from chair - both hands with SHAKING (Subject U6).\n",
      "Matched 3140 rows for 4 (Sideway) Sit & stand (Subject U6).\n",
      "Matched 3140 rows for 6 (Sideway) STAND up with - both hands SHAKING (Subject U6).\n",
      "Matched 3145 rows for 7 Cool down - sitting/relax (Subject U6).\n",
      "Matched 3145 rows for 8 Walk (LEFT --> Right --> Left) (Subject U6).\n",
      "Matched 3145 rows for 9 Walk & STOP/frozen, full body shaking, rotate then return back (Subject U6).\n",
      "Matched 3140 rows for 9 Walk & STOP/frozen, full body shaking, rotate then return back (Subject U6).\n",
      "Matched 3145 rows for 9 Walk & STOP/frozen, full body shaking, rotate then return back (Subject U6).\n",
      "Matched 3144 rows for 10 Slow walk (SHAKING hands/body, tiny step, head forward) (Subject U6).\n",
      "Matched 3144 rows for 10 Slow walk (SHAKING hands/body, tiny step, head forward) (Subject U6).\n",
      "Matched 3144 rows for 2 (FACING camera) both hands SHAKING (sitting position) (Subject U3).\n",
      "Matched 3145 rows for 3 Stand up from chair - both hands with SHAKING (Subject U3).\n",
      "Matched 3140 rows for 4 (Sideway) Sit & stand (Subject U3).\n",
      "Matched 1 rows for 4 (Sideway) Sit & stand (Subject U3).\n",
      "Matched 1 rows for 4 (Sideway) Sit & stand (Subject U3).\n",
      "Matched 3145 rows for 5 (Sideway) both hands SHAKING (sitting) (Subject U3).\n",
      "Matched 3141 rows for 8 Walk (LEFT --> Right --> Left) (Subject U3).\n",
      "Matched 3143 rows for 9 Walk & STOP/frozen, full body shaking, rotate then return back (Subject U3).\n",
      "Matched 3145 rows for 9 Walk & STOP/frozen, full body shaking, rotate then return back (Subject U3).\n",
      "Matched 3145 rows for 10 Slow walk (SHAKING hands/body, tiny step, head forward) (Subject U3).\n",
      "Matched 3142 rows for 10 Slow walk (SHAKING hands/body, tiny step, head forward) (Subject U3).\n",
      "Matched 3142 rows for 10 Slow walk (SHAKING hands/body, tiny step, head forward) (Subject U3).\n",
      "Matched 3145 rows for 3 Stand up from chair - both hands with SHAKING (Subject U7).\n",
      "Matched 1 rows for 4 (Sideway) Sit & stand (Subject U7).\n",
      "Matched 1 rows for 4 (Sideway) Sit & stand (Subject U7).\n",
      "Matched 1 rows for 4 (Sideway) Sit & stand (Subject U7).\n",
      "Matched 1 rows for 5 (Sideway) both hands SHAKING (sitting) (Subject U7).\n",
      "Matched 3142 rows for 6 (Sideway) STAND up with - both hands SHAKING (Subject U7).\n",
      "Matched 3143 rows for 9 Walk & STOP/frozen, full body shaking, rotate then return back (Subject U7).\n",
      "Matched 3145 rows for 10 Slow walk (SHAKING hands/body, tiny step, head forward) (Subject U7).\n",
      "Final matched data shape: (104627, 6)\n",
      "Saved matched sensor data.\n",
      "Processing complete.\n"
     ]
    }
   ],
   "source": [
    "import os\n",
    "import pandas as pd\n",
    "import glob\n",
    "\n",
    "print(\"Loading sensor data...\")\n",
    "\n",
    "# Step 2: Load and Collect all sensor file paths\n",
    "sensor_files = glob.glob(os.path.join(sensor_data_path, \"*/*.csv\"))\n",
    "sensor_data_list = []\n",
    "\n",
    "for file_path in sensor_files:\n",
    "    # Read sensor data\n",
    "    df = pd.read_csv(file_path, header=None, names=['RandomID', 'Timestamp', 'X', 'Y', 'Z'])\n",
    "    \n",
    "    # Convert timestamp format\n",
    "    try:\n",
    "        df['Timestamp'] = pd.to_datetime(df['Timestamp'], format='%Y-%m-%dT%H:%M:%S.%f%z', utc=True)\n",
    "    except Exception as e:\n",
    "        print(f\"Error parsing timestamp in {file_path}: {e}\")\n",
    "        continue\n",
    "\n",
    "    df.drop(columns=['RandomID'], inplace=True)\n",
    "    sensor_data_list.append(df)\n",
    "\n",
    "# Combine all sensor data\n",
    "if sensor_data_list:\n",
    "    sensor_data = pd.concat(sensor_data_list, ignore_index=True)\n",
    "    print(f\"Total loaded sensor data: {sensor_data.shape}\")\n",
    "else:\n",
    "    print(\"No valid sensor data found. Exiting.\")\n",
    "    exit()\n",
    "\n",
    "# Step 3: Match Sensor Data with Activities by TIMESTAMP\n",
    "print(\"Matching sensor data with activity labels...\")\n",
    "\n",
    "matched_data_list = []\n",
    "\n",
    "for _, activity in activities.iterrows():\n",
    "    start_time, end_time, subject = activity['Started'], activity['Finished'], activity['Subject']\n",
    "\n",
    "    # Find sensor data that falls within the activity time window\n",
    "    mask = (sensor_data['Timestamp'] >= start_time) & (sensor_data['Timestamp'] <= end_time)\n",
    "    matched_activity_data = sensor_data[mask].copy()\n",
    "    \n",
    "    if not matched_activity_data.empty:\n",
    "        matched_activity_data['Activity'] = activity['Activity Type']\n",
    "        matched_activity_data['Subject'] = subject  # Keep track of Subject\n",
    "        matched_data_list.append(matched_activity_data)\n",
    "        print(f\"Matched {len(matched_activity_data)} rows for {activity['Activity Type']} (Subject {subject}).\")\n",
    "\n",
    "os.makedirs('processed data', exist_ok=True)\n",
    "\n",
    "# Step 4: Save Final Matched Data\n",
    "if matched_data_list:\n",
    "    final_data = pd.concat(matched_data_list, ignore_index=True)\n",
    "    print(f\"Final matched data shape: {final_data.shape}\")\n",
    "    final_data.to_csv(\"processed data/Matched_Sensor_Activities.csv\", index=False)\n",
    "    print(\"Saved matched sensor data.\")\n",
    "else:\n",
    "    print(\"No matching sensor data found for any activities.\")\n",
    "\n",
    "print(\"Processing complete.\")\n"
   ]
  },
  {
   "cell_type": "code",
   "execution_count": 4,
   "id": "24ac8d62",
   "metadata": {},
   "outputs": [],
   "source": [
    "sensor_data.to_csv(\"processed data/AllSensorData.csv\", index=False)"
   ]
  },
  {
   "cell_type": "markdown",
   "id": "ef420252",
   "metadata": {},
   "source": [
    "## Loading Dataset"
   ]
  },
  {
   "cell_type": "code",
   "execution_count": 5,
   "id": "e52cbc4f",
   "metadata": {},
   "outputs": [],
   "source": [
    "import os\n",
    "import pandas as pd"
   ]
  },
  {
   "cell_type": "code",
   "execution_count": 6,
   "id": "99f4efa6",
   "metadata": {},
   "outputs": [
    {
     "data": {
      "text/html": [
       "<div>\n",
       "<style scoped>\n",
       "    .dataframe tbody tr th:only-of-type {\n",
       "        vertical-align: middle;\n",
       "    }\n",
       "\n",
       "    .dataframe tbody tr th {\n",
       "        vertical-align: top;\n",
       "    }\n",
       "\n",
       "    .dataframe thead th {\n",
       "        text-align: right;\n",
       "    }\n",
       "</style>\n",
       "<table border=\"1\" class=\"dataframe\">\n",
       "  <thead>\n",
       "    <tr style=\"text-align: right;\">\n",
       "      <th></th>\n",
       "      <th>Timestamp</th>\n",
       "      <th>X</th>\n",
       "      <th>Y</th>\n",
       "      <th>Z</th>\n",
       "      <th>Activity</th>\n",
       "      <th>Subject</th>\n",
       "    </tr>\n",
       "  </thead>\n",
       "  <tbody>\n",
       "    <tr>\n",
       "      <th>0</th>\n",
       "      <td>2024-09-03 10:56:00.067000+00:00</td>\n",
       "      <td>-0.646</td>\n",
       "      <td>4.516</td>\n",
       "      <td>8.696</td>\n",
       "      <td>2 (FACING camera) both hands SHAKING (sitting ...</td>\n",
       "      <td>U22</td>\n",
       "    </tr>\n",
       "    <tr>\n",
       "      <th>1</th>\n",
       "      <td>2024-09-03 10:56:00.202000+00:00</td>\n",
       "      <td>-0.682</td>\n",
       "      <td>4.463</td>\n",
       "      <td>8.680</td>\n",
       "      <td>2 (FACING camera) both hands SHAKING (sitting ...</td>\n",
       "      <td>U22</td>\n",
       "    </tr>\n",
       "    <tr>\n",
       "      <th>2</th>\n",
       "      <td>2024-09-03 10:56:00.335000+00:00</td>\n",
       "      <td>-0.730</td>\n",
       "      <td>4.458</td>\n",
       "      <td>8.703</td>\n",
       "      <td>2 (FACING camera) both hands SHAKING (sitting ...</td>\n",
       "      <td>U22</td>\n",
       "    </tr>\n",
       "  </tbody>\n",
       "</table>\n",
       "</div>"
      ],
      "text/plain": [
       "                          Timestamp      X      Y      Z  \\\n",
       "0  2024-09-03 10:56:00.067000+00:00 -0.646  4.516  8.696   \n",
       "1  2024-09-03 10:56:00.202000+00:00 -0.682  4.463  8.680   \n",
       "2  2024-09-03 10:56:00.335000+00:00 -0.730  4.458  8.703   \n",
       "\n",
       "                                            Activity Subject  \n",
       "0  2 (FACING camera) both hands SHAKING (sitting ...     U22  \n",
       "1  2 (FACING camera) both hands SHAKING (sitting ...     U22  \n",
       "2  2 (FACING camera) both hands SHAKING (sitting ...     U22  "
      ]
     },
     "execution_count": 6,
     "metadata": {},
     "output_type": "execute_result"
    }
   ],
   "source": [
    "data = pd.read_csv(\"processed data/Matched_Sensor_Activities.csv\")\n",
    "data.head(3)"
   ]
  },
  {
   "cell_type": "markdown",
   "id": "9d4acbaa",
   "metadata": {},
   "source": [
    "## Info"
   ]
  },
  {
   "cell_type": "code",
   "execution_count": 7,
   "id": "314dd940",
   "metadata": {},
   "outputs": [
    {
     "data": {
      "text/plain": [
       "(104627, 6)"
      ]
     },
     "execution_count": 7,
     "metadata": {},
     "output_type": "execute_result"
    }
   ],
   "source": [
    "data.shape"
   ]
  },
  {
   "cell_type": "code",
   "execution_count": 8,
   "id": "7ee9e393",
   "metadata": {},
   "outputs": [
    {
     "data": {
      "text/plain": [
       "Index(['Timestamp', 'X', 'Y', 'Z', 'Activity', 'Subject'], dtype='object')"
      ]
     },
     "execution_count": 8,
     "metadata": {},
     "output_type": "execute_result"
    }
   ],
   "source": [
    "data.columns"
   ]
  },
  {
   "cell_type": "code",
   "execution_count": 9,
   "id": "1aa8b9bd",
   "metadata": {},
   "outputs": [
    {
     "data": {
      "text/plain": [
       "Subject\n",
       "U3     36200\n",
       "U6     33883\n",
       "U7     12579\n",
       "U5      5188\n",
       "U4      4831\n",
       "U22     4363\n",
       "U2      3583\n",
       "U21     2131\n",
       "U1      1869\n",
       "Name: count, dtype: int64"
      ]
     },
     "execution_count": 9,
     "metadata": {},
     "output_type": "execute_result"
    }
   ],
   "source": [
    "data['Subject'].value_counts()"
   ]
  },
  {
   "cell_type": "code",
   "execution_count": 10,
   "id": "e4187116",
   "metadata": {},
   "outputs": [
    {
     "data": {
      "text/plain": [
       "10"
      ]
     },
     "execution_count": 10,
     "metadata": {},
     "output_type": "execute_result"
    }
   ],
   "source": [
    "num_classes = len(data['Activity'].value_counts())\n",
    "num_classes"
   ]
  },
  {
   "cell_type": "markdown",
   "id": "9337482b",
   "metadata": {},
   "source": [
    "## Preprcoessing Dataset"
   ]
  },
  {
   "cell_type": "code",
   "execution_count": 11,
   "id": "eb3d7d28",
   "metadata": {},
   "outputs": [],
   "source": [
    "import numpy as np\n",
    "import pandas as pd\n",
    "from sklearn.preprocessing import LabelEncoder, StandardScaler\n",
    "from sklearn.model_selection import train_test_split\n",
    "import tensorflow as tf\n",
    "\n",
    "# Encode activity labels\n",
    "label_encoder = LabelEncoder()\n",
    "data['Activity_Label'] = label_encoder.fit_transform(data['Activity'])\n",
    "\n",
    "# Normalize sensor values\n",
    "scaler = StandardScaler()\n",
    "data[['X', 'Y', 'Z']] = scaler.fit_transform(data[['X', 'Y', 'Z']])\n",
    "\n",
    "# Group by Subject & Create Sequences\n",
    "time_window = 10  # 10 sensor readings per sequence\n",
    "sequences = []\n",
    "labels = []\n",
    "\n",
    "for subject, group in data.groupby('Subject'):\n",
    "    group = group.sort_values('Timestamp')\n",
    "    sensor_values = group[['X', 'Y', 'Z']].values\n",
    "    activity_labels = group['Activity_Label'].values\n",
    "    \n",
    "    for i in range(len(group) - time_window):\n",
    "        sequences.append(sensor_values[i:i+time_window])\n",
    "        labels.append(activity_labels[i + time_window])\n",
    "\n",
    "sequences = np.array(sequences)\n",
    "labels = np.array(labels)\n",
    "\n",
    "# Split into train and validation sets (80%-20%) using numpy arrays first\n",
    "X_train, X_val, y_train, y_val = train_test_split(\n",
    "    sequences, labels, test_size=0.2, random_state=42, shuffle=True\n",
    ")\n",
    "\n",
    "# Then convert to TensorFlow tensors\n",
    "X_train_tensor = tf.convert_to_tensor(X_train, dtype=tf.float32)\n",
    "X_val_tensor = tf.convert_to_tensor(X_val, dtype=tf.float32)\n",
    "y_train_tensor = tf.convert_to_tensor(y_train, dtype=tf.int32)\n",
    "y_val_tensor = tf.convert_to_tensor(y_val, dtype=tf.int32)\n",
    "\n",
    "# Optionally create TensorFlow Datasets for training\n",
    "train_dataset = tf.data.Dataset.from_tensor_slices((X_train_tensor, y_train_tensor)).batch(32).shuffle(buffer_size=1000)\n",
    "val_dataset = tf.data.Dataset.from_tensor_slices((X_val_tensor, y_val_tensor)).batch(32)"
   ]
  },
  {
   "cell_type": "markdown",
   "id": "33cdf8f5",
   "metadata": {},
   "source": [
    "### Saving Files"
   ]
  },
  {
   "cell_type": "code",
   "execution_count": 12,
   "id": "dc654cd3",
   "metadata": {},
   "outputs": [],
   "source": [
    "np.save(\"label_classes.npy\", label_encoder.classes_)\n",
    "import pickle\n",
    "with open(\"scaler.pkl\", \"wb\") as f:\n",
    "    pickle.dump(scaler, f)"
   ]
  },
  {
   "cell_type": "markdown",
   "id": "40a33c92",
   "metadata": {},
   "source": [
    "## Models"
   ]
  },
  {
   "cell_type": "markdown",
   "id": "3b559d67",
   "metadata": {},
   "source": [
    "#### Transformer Model"
   ]
  },
  {
   "cell_type": "markdown",
   "id": "2a3def0b",
   "metadata": {},
   "source": [
    "**Model Building**"
   ]
  },
  {
   "cell_type": "code",
   "execution_count": 13,
   "id": "85997a5b",
   "metadata": {},
   "outputs": [],
   "source": [
    "from tensorflow.keras import layers, models, Layer\n",
    "from tensorflow.keras.utils import register_keras_serializable\n",
    "\n",
    "@register_keras_serializable()\n",
    "class TransformerBlock(Layer):\n",
    "    def __init__(self, d_model, num_heads, ff_dim, **kwargs):\n",
    "        super(TransformerBlock, self).__init__(**kwargs)\n",
    "        self.att = tf.keras.layers.MultiHeadAttention(num_heads=num_heads, key_dim=d_model)\n",
    "        self.ffn = tf.keras.Sequential([\n",
    "            tf.keras.layers.Dense(ff_dim, activation=\"relu\"),\n",
    "            tf.keras.layers.Dense(d_model),\n",
    "        ])\n",
    "        self.layernorm1 = tf.keras.layers.LayerNormalization(epsilon=1e-6)\n",
    "        self.layernorm2 = tf.keras.layers.LayerNormalization(epsilon=1e-6)\n",
    "        self.dropout1 = tf.keras.layers.Dropout(0.1)\n",
    "        self.dropout2 = tf.keras.layers.Dropout(0.1)\n",
    "\n",
    "    def call(self, inputs, training=False):\n",
    "        attn_output = self.att(inputs, inputs)\n",
    "        out1 = self.layernorm1(inputs + self.dropout1(attn_output, training=training))\n",
    "        ffn_output = self.ffn(out1)\n",
    "        return self.layernorm2(out1 + self.dropout2(ffn_output, training=training))\n",
    "\n",
    "    def get_config(self):\n",
    "        config = super(TransformerBlock, self).get_config()\n",
    "        config.update({\n",
    "            \"d_model\": self.att.key_dim,\n",
    "            \"num_heads\": self.att.num_heads,\n",
    "            \"ff_dim\": self.ffn.layers[0].units,\n",
    "        })\n",
    "        return config\n",
    "\n",
    "\n",
    "def create_transformer_model(input_dim=3, seq_len=10, num_classes=num_classes, d_model=64, num_heads=4, num_layers=2):\n",
    "    inputs = tf.keras.Input(shape=(seq_len, input_dim))  # Shape: (batch, time, features)\n",
    "\n",
    "    # Linear embedding (like nn.Linear in PyTorch)\n",
    "    x = layers.Dense(d_model)(inputs)\n",
    "\n",
    "    # Transformer Encoder Blocks\n",
    "    for _ in range(num_layers):\n",
    "        x = TransformerBlock(d_model=d_model, num_heads=num_heads, ff_dim=128)(x)\n",
    "\n",
    "    # Global Average Pooling\n",
    "    x = layers.GlobalAveragePooling1D()(x)\n",
    "\n",
    "    # Final Classification Layer\n",
    "    outputs = layers.Dense(num_classes, activation='softmax')(x)\n",
    "\n",
    "    model = tf.keras.Model(inputs=inputs, outputs=outputs)\n",
    "    return model"
   ]
  },
  {
   "cell_type": "markdown",
   "id": "a3920d1b",
   "metadata": {},
   "source": [
    "**Model Creation**"
   ]
  },
  {
   "cell_type": "code",
   "execution_count": 14,
   "id": "ab57a47f",
   "metadata": {},
   "outputs": [
    {
     "name": "stdout",
     "output_type": "stream",
     "text": [
      "WARNING:tensorflow:From e:\\Parkinsons dissertation\\.venv\\Lib\\site-packages\\keras\\src\\backend\\tensorflow\\core.py:232: The name tf.placeholder is deprecated. Please use tf.compat.v1.placeholder instead.\n",
      "\n"
     ]
    }
   ],
   "source": [
    "# Create the model\n",
    "transformer_model = create_transformer_model(\n",
    "    input_dim=3,  # X, Y, Z features\n",
    "    seq_len=10,   # Your time_window size\n",
    "    num_classes=num_classes,  # Number of unique activities\n",
    "    d_model=64,\n",
    "    num_heads=4,\n",
    "    num_layers=2\n",
    ")"
   ]
  },
  {
   "cell_type": "markdown",
   "id": "6f9c5d12",
   "metadata": {},
   "source": [
    "**Model Compilation**"
   ]
  },
  {
   "cell_type": "code",
   "execution_count": 15,
   "id": "151e36d0",
   "metadata": {},
   "outputs": [],
   "source": [
    "# Compile the model\n",
    "transformer_model.compile(\n",
    "    optimizer='adam',\n",
    "    loss='sparse_categorical_crossentropy',\n",
    "    metrics=['accuracy']\n",
    ")"
   ]
  },
  {
   "cell_type": "markdown",
   "id": "ba7c1bcb",
   "metadata": {},
   "source": [
    "**Model Checkpoint**"
   ]
  },
  {
   "cell_type": "code",
   "execution_count": 16,
   "id": "6f31852f",
   "metadata": {},
   "outputs": [],
   "source": [
    "# Callbacks: EarlyStopping and ModelCheckpoint\n",
    "transformer_early_stop = tf.keras.callbacks.EarlyStopping(\n",
    "    monitor='val_loss', patience=10, restore_best_weights=True, verbose=1\n",
    ")\n",
    "\n",
    "transformer_checkpoint = tf.keras.callbacks.ModelCheckpoint(\n",
    "    'trained_transformer_model.keras', monitor='val_loss', save_best_only=True, verbose=1\n",
    ")"
   ]
  },
  {
   "cell_type": "markdown",
   "id": "e0d0aaaa",
   "metadata": {},
   "source": [
    "**Model Training**"
   ]
  },
  {
   "cell_type": "code",
   "execution_count": 21,
   "id": "d537c112",
   "metadata": {},
   "outputs": [
    {
     "name": "stdout",
     "output_type": "stream",
     "text": [
      "Epoch 1/50\n",
      "\u001b[1m2611/2614\u001b[0m \u001b[32m━━━━━━━━━━━━━━━━━━━\u001b[0m\u001b[37m━\u001b[0m \u001b[1m0s\u001b[0m 10ms/step - accuracy: 0.6054 - loss: 1.0509\n",
      "Epoch 1: val_loss did not improve from 1.03300\n",
      "\u001b[1m2614/2614\u001b[0m \u001b[32m━━━━━━━━━━━━━━━━━━━━\u001b[0m\u001b[37m\u001b[0m \u001b[1m28s\u001b[0m 11ms/step - accuracy: 0.6055 - loss: 1.0509 - val_accuracy: 0.6125 - val_loss: 1.0412\n",
      "Epoch 2/50\n",
      "\u001b[1m2613/2614\u001b[0m \u001b[32m━━━━━━━━━━━━━━━━━━━\u001b[0m\u001b[37m━\u001b[0m \u001b[1m0s\u001b[0m 10ms/step - accuracy: 0.6099 - loss: 1.0419\n",
      "Epoch 2: val_loss did not improve from 1.03300\n",
      "\u001b[1m2614/2614\u001b[0m \u001b[32m━━━━━━━━━━━━━━━━━━━━\u001b[0m\u001b[37m\u001b[0m \u001b[1m27s\u001b[0m 10ms/step - accuracy: 0.6099 - loss: 1.0418 - val_accuracy: 0.6173 - val_loss: 1.0383\n",
      "Epoch 3/50\n",
      "\u001b[1m2609/2614\u001b[0m \u001b[32m━━━━━━━━━━━━━━━━━━━\u001b[0m\u001b[37m━\u001b[0m \u001b[1m0s\u001b[0m 9ms/step - accuracy: 0.6136 - loss: 1.0263\n",
      "Epoch 3: val_loss improved from 1.03300 to 1.01717, saving model to trained_transformer_model.keras\n",
      "\u001b[1m2614/2614\u001b[0m \u001b[32m━━━━━━━━━━━━━━━━━━━━\u001b[0m\u001b[37m\u001b[0m \u001b[1m26s\u001b[0m 10ms/step - accuracy: 0.6136 - loss: 1.0263 - val_accuracy: 0.6233 - val_loss: 1.0172\n",
      "Epoch 4/50\n",
      "\u001b[1m2611/2614\u001b[0m \u001b[32m━━━━━━━━━━━━━━━━━━━\u001b[0m\u001b[37m━\u001b[0m \u001b[1m0s\u001b[0m 9ms/step - accuracy: 0.6181 - loss: 1.0145\n",
      "Epoch 4: val_loss improved from 1.01717 to 1.01053, saving model to trained_transformer_model.keras\n",
      "\u001b[1m2614/2614\u001b[0m \u001b[32m━━━━━━━━━━━━━━━━━━━━\u001b[0m\u001b[37m\u001b[0m \u001b[1m26s\u001b[0m 10ms/step - accuracy: 0.6181 - loss: 1.0145 - val_accuracy: 0.6234 - val_loss: 1.0105\n",
      "Epoch 5/50\n",
      "\u001b[1m2613/2614\u001b[0m \u001b[32m━━━━━━━━━━━━━━━━━━━\u001b[0m\u001b[37m━\u001b[0m \u001b[1m0s\u001b[0m 9ms/step - accuracy: 0.6176 - loss: 1.0134\n",
      "Epoch 5: val_loss improved from 1.01053 to 1.00967, saving model to trained_transformer_model.keras\n",
      "\u001b[1m2614/2614\u001b[0m \u001b[32m━━━━━━━━━━━━━━━━━━━━\u001b[0m\u001b[37m\u001b[0m \u001b[1m27s\u001b[0m 10ms/step - accuracy: 0.6176 - loss: 1.0134 - val_accuracy: 0.6282 - val_loss: 1.0097\n",
      "Epoch 6/50\n",
      "\u001b[1m2609/2614\u001b[0m \u001b[32m━━━━━━━━━━━━━━━━━━━\u001b[0m\u001b[37m━\u001b[0m \u001b[1m0s\u001b[0m 9ms/step - accuracy: 0.6237 - loss: 0.9998\n",
      "Epoch 6: val_loss did not improve from 1.00967\n",
      "\u001b[1m2614/2614\u001b[0m \u001b[32m━━━━━━━━━━━━━━━━━━━━\u001b[0m\u001b[37m\u001b[0m \u001b[1m26s\u001b[0m 10ms/step - accuracy: 0.6237 - loss: 0.9998 - val_accuracy: 0.6275 - val_loss: 1.0107\n",
      "Epoch 7/50\n",
      "\u001b[1m2614/2614\u001b[0m \u001b[32m━━━━━━━━━━━━━━━━━━━━\u001b[0m\u001b[37m\u001b[0m \u001b[1m0s\u001b[0m 9ms/step - accuracy: 0.6286 - loss: 0.9936\n",
      "Epoch 7: val_loss improved from 1.00967 to 0.98905, saving model to trained_transformer_model.keras\n",
      "\u001b[1m2614/2614\u001b[0m \u001b[32m━━━━━━━━━━━━━━━━━━━━\u001b[0m\u001b[37m\u001b[0m \u001b[1m26s\u001b[0m 10ms/step - accuracy: 0.6286 - loss: 0.9936 - val_accuracy: 0.6388 - val_loss: 0.9890\n",
      "Epoch 8/50\n",
      "\u001b[1m2609/2614\u001b[0m \u001b[32m━━━━━━━━━━━━━━━━━━━\u001b[0m\u001b[37m━\u001b[0m \u001b[1m0s\u001b[0m 9ms/step - accuracy: 0.6275 - loss: 0.9863\n",
      "Epoch 8: val_loss improved from 0.98905 to 0.97807, saving model to trained_transformer_model.keras\n",
      "\u001b[1m2614/2614\u001b[0m \u001b[32m━━━━━━━━━━━━━━━━━━━━\u001b[0m\u001b[37m\u001b[0m \u001b[1m26s\u001b[0m 10ms/step - accuracy: 0.6275 - loss: 0.9863 - val_accuracy: 0.6382 - val_loss: 0.9781\n",
      "Epoch 9/50\n",
      "\u001b[1m2610/2614\u001b[0m \u001b[32m━━━━━━━━━━━━━━━━━━━\u001b[0m\u001b[37m━\u001b[0m \u001b[1m0s\u001b[0m 9ms/step - accuracy: 0.6321 - loss: 0.9770\n",
      "Epoch 9: val_loss did not improve from 0.97807\n",
      "\u001b[1m2614/2614\u001b[0m \u001b[32m━━━━━━━━━━━━━━━━━━━━\u001b[0m\u001b[37m\u001b[0m \u001b[1m26s\u001b[0m 10ms/step - accuracy: 0.6321 - loss: 0.9770 - val_accuracy: 0.6302 - val_loss: 1.0002\n",
      "Epoch 10/50\n",
      "\u001b[1m2614/2614\u001b[0m \u001b[32m━━━━━━━━━━━━━━━━━━━━\u001b[0m\u001b[37m\u001b[0m \u001b[1m0s\u001b[0m 9ms/step - accuracy: 0.6308 - loss: 0.9812\n",
      "Epoch 10: val_loss improved from 0.97807 to 0.96143, saving model to trained_transformer_model.keras\n",
      "\u001b[1m2614/2614\u001b[0m \u001b[32m━━━━━━━━━━━━━━━━━━━━\u001b[0m\u001b[37m\u001b[0m \u001b[1m27s\u001b[0m 10ms/step - accuracy: 0.6308 - loss: 0.9812 - val_accuracy: 0.6447 - val_loss: 0.9614\n",
      "Epoch 11/50\n",
      "\u001b[1m2611/2614\u001b[0m \u001b[32m━━━━━━━━━━━━━━━━━━━\u001b[0m\u001b[37m━\u001b[0m \u001b[1m0s\u001b[0m 9ms/step - accuracy: 0.6383 - loss: 0.9658\n",
      "Epoch 11: val_loss did not improve from 0.96143\n",
      "\u001b[1m2614/2614\u001b[0m \u001b[32m━━━━━━━━━━━━━━━━━━━━\u001b[0m\u001b[37m\u001b[0m \u001b[1m26s\u001b[0m 10ms/step - accuracy: 0.6383 - loss: 0.9658 - val_accuracy: 0.6379 - val_loss: 0.9817\n",
      "Epoch 12/50\n",
      "\u001b[1m2613/2614\u001b[0m \u001b[32m━━━━━━━━━━━━━━━━━━━\u001b[0m\u001b[37m━\u001b[0m \u001b[1m0s\u001b[0m 10ms/step - accuracy: 0.6392 - loss: 0.9616\n",
      "Epoch 12: val_loss improved from 0.96143 to 0.94560, saving model to trained_transformer_model.keras\n",
      "\u001b[1m2614/2614\u001b[0m \u001b[32m━━━━━━━━━━━━━━━━━━━━\u001b[0m\u001b[37m\u001b[0m \u001b[1m30s\u001b[0m 11ms/step - accuracy: 0.6392 - loss: 0.9616 - val_accuracy: 0.6502 - val_loss: 0.9456\n",
      "Epoch 13/50\n",
      "\u001b[1m2610/2614\u001b[0m \u001b[32m━━━━━━━━━━━━━━━━━━━\u001b[0m\u001b[37m━\u001b[0m \u001b[1m0s\u001b[0m 11ms/step - accuracy: 0.6454 - loss: 0.9463\n",
      "Epoch 13: val_loss did not improve from 0.94560\n",
      "\u001b[1m2614/2614\u001b[0m \u001b[32m━━━━━━━━━━━━━━━━━━━━\u001b[0m\u001b[37m\u001b[0m \u001b[1m31s\u001b[0m 12ms/step - accuracy: 0.6454 - loss: 0.9463 - val_accuracy: 0.6437 - val_loss: 0.9693\n",
      "Epoch 14/50\n",
      "\u001b[1m2613/2614\u001b[0m \u001b[32m━━━━━━━━━━━━━━━━━━━\u001b[0m\u001b[37m━\u001b[0m \u001b[1m0s\u001b[0m 10ms/step - accuracy: 0.6453 - loss: 0.9456\n",
      "Epoch 14: val_loss did not improve from 0.94560\n",
      "\u001b[1m2614/2614\u001b[0m \u001b[32m━━━━━━━━━━━━━━━━━━━━\u001b[0m\u001b[37m\u001b[0m \u001b[1m30s\u001b[0m 11ms/step - accuracy: 0.6453 - loss: 0.9456 - val_accuracy: 0.6457 - val_loss: 0.9636\n",
      "Epoch 15/50\n",
      "\u001b[1m2610/2614\u001b[0m \u001b[32m━━━━━━━━━━━━━━━━━━━\u001b[0m\u001b[37m━\u001b[0m \u001b[1m0s\u001b[0m 10ms/step - accuracy: 0.6458 - loss: 0.9428\n",
      "Epoch 15: val_loss did not improve from 0.94560\n",
      "\u001b[1m2614/2614\u001b[0m \u001b[32m━━━━━━━━━━━━━━━━━━━━\u001b[0m\u001b[37m\u001b[0m \u001b[1m29s\u001b[0m 11ms/step - accuracy: 0.6458 - loss: 0.9428 - val_accuracy: 0.6497 - val_loss: 0.9609\n",
      "Epoch 16/50\n",
      "\u001b[1m2611/2614\u001b[0m \u001b[32m━━━━━━━━━━━━━━━━━━━\u001b[0m\u001b[37m━\u001b[0m \u001b[1m0s\u001b[0m 10ms/step - accuracy: 0.6488 - loss: 0.9313\n",
      "Epoch 16: val_loss did not improve from 0.94560\n",
      "\u001b[1m2614/2614\u001b[0m \u001b[32m━━━━━━━━━━━━━━━━━━━━\u001b[0m\u001b[37m\u001b[0m \u001b[1m28s\u001b[0m 11ms/step - accuracy: 0.6488 - loss: 0.9313 - val_accuracy: 0.6467 - val_loss: 0.9566\n",
      "Epoch 17/50\n",
      "\u001b[1m2611/2614\u001b[0m \u001b[32m━━━━━━━━━━━━━━━━━━━\u001b[0m\u001b[37m━\u001b[0m \u001b[1m0s\u001b[0m 10ms/step - accuracy: 0.6546 - loss: 0.9271\n",
      "Epoch 17: val_loss improved from 0.94560 to 0.91585, saving model to trained_transformer_model.keras\n",
      "\u001b[1m2614/2614\u001b[0m \u001b[32m━━━━━━━━━━━━━━━━━━━━\u001b[0m\u001b[37m\u001b[0m \u001b[1m28s\u001b[0m 11ms/step - accuracy: 0.6546 - loss: 0.9271 - val_accuracy: 0.6616 - val_loss: 0.9158\n",
      "Epoch 18/50\n",
      "\u001b[1m2613/2614\u001b[0m \u001b[32m━━━━━━━━━━━━━━━━━━━\u001b[0m\u001b[37m━\u001b[0m \u001b[1m0s\u001b[0m 10ms/step - accuracy: 0.6569 - loss: 0.9141\n",
      "Epoch 18: val_loss did not improve from 0.91585\n",
      "\u001b[1m2614/2614\u001b[0m \u001b[32m━━━━━━━━━━━━━━━━━━━━\u001b[0m\u001b[37m\u001b[0m \u001b[1m28s\u001b[0m 11ms/step - accuracy: 0.6569 - loss: 0.9141 - val_accuracy: 0.6593 - val_loss: 0.9324\n",
      "Epoch 19/50\n",
      "\u001b[1m2614/2614\u001b[0m \u001b[32m━━━━━━━━━━━━━━━━━━━━\u001b[0m\u001b[37m\u001b[0m \u001b[1m0s\u001b[0m 10ms/step - accuracy: 0.6553 - loss: 0.9223\n",
      "Epoch 19: val_loss did not improve from 0.91585\n",
      "\u001b[1m2614/2614\u001b[0m \u001b[32m━━━━━━━━━━━━━━━━━━━━\u001b[0m\u001b[37m\u001b[0m \u001b[1m29s\u001b[0m 11ms/step - accuracy: 0.6553 - loss: 0.9223 - val_accuracy: 0.6584 - val_loss: 0.9284\n",
      "Epoch 20/50\n",
      "\u001b[1m2613/2614\u001b[0m \u001b[32m━━━━━━━━━━━━━━━━━━━\u001b[0m\u001b[37m━\u001b[0m \u001b[1m0s\u001b[0m 10ms/step - accuracy: 0.6572 - loss: 0.9120\n",
      "Epoch 20: val_loss did not improve from 0.91585\n",
      "\u001b[1m2614/2614\u001b[0m \u001b[32m━━━━━━━━━━━━━━━━━━━━\u001b[0m\u001b[37m\u001b[0m \u001b[1m29s\u001b[0m 11ms/step - accuracy: 0.6572 - loss: 0.9120 - val_accuracy: 0.6649 - val_loss: 0.9170\n",
      "Epoch 21/50\n",
      "\u001b[1m2611/2614\u001b[0m \u001b[32m━━━━━━━━━━━━━━━━━━━\u001b[0m\u001b[37m━\u001b[0m \u001b[1m0s\u001b[0m 10ms/step - accuracy: 0.6575 - loss: 0.9131\n",
      "Epoch 21: val_loss did not improve from 0.91585\n",
      "\u001b[1m2614/2614\u001b[0m \u001b[32m━━━━━━━━━━━━━━━━━━━━\u001b[0m\u001b[37m\u001b[0m \u001b[1m29s\u001b[0m 11ms/step - accuracy: 0.6575 - loss: 0.9130 - val_accuracy: 0.6520 - val_loss: 0.9544\n",
      "Epoch 22/50\n",
      "\u001b[1m2610/2614\u001b[0m \u001b[32m━━━━━━━━━━━━━━━━━━━\u001b[0m\u001b[37m━\u001b[0m \u001b[1m0s\u001b[0m 10ms/step - accuracy: 0.6590 - loss: 0.9063\n",
      "Epoch 22: val_loss did not improve from 0.91585\n",
      "\u001b[1m2614/2614\u001b[0m \u001b[32m━━━━━━━━━━━━━━━━━━━━\u001b[0m\u001b[37m\u001b[0m \u001b[1m28s\u001b[0m 11ms/step - accuracy: 0.6590 - loss: 0.9063 - val_accuracy: 0.6669 - val_loss: 0.9205\n",
      "Epoch 23/50\n",
      "\u001b[1m2613/2614\u001b[0m \u001b[32m━━━━━━━━━━━━━━━━━━━\u001b[0m\u001b[37m━\u001b[0m \u001b[1m0s\u001b[0m 11ms/step - accuracy: 0.6633 - loss: 0.8970\n",
      "Epoch 23: val_loss improved from 0.91585 to 0.91206, saving model to trained_transformer_model.keras\n",
      "\u001b[1m2614/2614\u001b[0m \u001b[32m━━━━━━━━━━━━━━━━━━━━\u001b[0m\u001b[37m\u001b[0m \u001b[1m31s\u001b[0m 12ms/step - accuracy: 0.6633 - loss: 0.8970 - val_accuracy: 0.6633 - val_loss: 0.9121\n",
      "Epoch 24/50\n",
      "\u001b[1m2610/2614\u001b[0m \u001b[32m━━━━━━━━━━━━━━━━━━━\u001b[0m\u001b[37m━\u001b[0m \u001b[1m0s\u001b[0m 10ms/step - accuracy: 0.6672 - loss: 0.8904\n",
      "Epoch 24: val_loss did not improve from 0.91206\n",
      "\u001b[1m2614/2614\u001b[0m \u001b[32m━━━━━━━━━━━━━━━━━━━━\u001b[0m\u001b[37m\u001b[0m \u001b[1m29s\u001b[0m 11ms/step - accuracy: 0.6672 - loss: 0.8904 - val_accuracy: 0.6585 - val_loss: 0.9253\n",
      "Epoch 25/50\n",
      "\u001b[1m2610/2614\u001b[0m \u001b[32m━━━━━━━━━━━━━━━━━━━\u001b[0m\u001b[37m━\u001b[0m \u001b[1m0s\u001b[0m 11ms/step - accuracy: 0.6686 - loss: 0.8833\n",
      "Epoch 25: val_loss improved from 0.91206 to 0.90327, saving model to trained_transformer_model.keras\n",
      "\u001b[1m2614/2614\u001b[0m \u001b[32m━━━━━━━━━━━━━━━━━━━━\u001b[0m\u001b[37m\u001b[0m \u001b[1m31s\u001b[0m 12ms/step - accuracy: 0.6686 - loss: 0.8833 - val_accuracy: 0.6737 - val_loss: 0.9033\n",
      "Epoch 26/50\n",
      "\u001b[1m2611/2614\u001b[0m \u001b[32m━━━━━━━━━━━━━━━━━━━\u001b[0m\u001b[37m━\u001b[0m \u001b[1m0s\u001b[0m 10ms/step - accuracy: 0.6701 - loss: 0.8817\n",
      "Epoch 26: val_loss did not improve from 0.90327\n",
      "\u001b[1m2614/2614\u001b[0m \u001b[32m━━━━━━━━━━━━━━━━━━━━\u001b[0m\u001b[37m\u001b[0m \u001b[1m30s\u001b[0m 11ms/step - accuracy: 0.6701 - loss: 0.8817 - val_accuracy: 0.6702 - val_loss: 0.9140\n",
      "Epoch 27/50\n",
      "\u001b[1m2614/2614\u001b[0m \u001b[32m━━━━━━━━━━━━━━━━━━━━\u001b[0m\u001b[37m\u001b[0m \u001b[1m0s\u001b[0m 11ms/step - accuracy: 0.6686 - loss: 0.8803\n",
      "Epoch 27: val_loss improved from 0.90327 to 0.90034, saving model to trained_transformer_model.keras\n",
      "\u001b[1m2614/2614\u001b[0m \u001b[32m━━━━━━━━━━━━━━━━━━━━\u001b[0m\u001b[37m\u001b[0m \u001b[1m30s\u001b[0m 12ms/step - accuracy: 0.6686 - loss: 0.8803 - val_accuracy: 0.6705 - val_loss: 0.9003\n",
      "Epoch 28/50\n",
      "\u001b[1m2614/2614\u001b[0m \u001b[32m━━━━━━━━━━━━━━━━━━━━\u001b[0m\u001b[37m\u001b[0m \u001b[1m0s\u001b[0m 11ms/step - accuracy: 0.6747 - loss: 0.8678\n",
      "Epoch 28: val_loss did not improve from 0.90034\n",
      "\u001b[1m2614/2614\u001b[0m \u001b[32m━━━━━━━━━━━━━━━━━━━━\u001b[0m\u001b[37m\u001b[0m \u001b[1m31s\u001b[0m 12ms/step - accuracy: 0.6747 - loss: 0.8678 - val_accuracy: 0.6715 - val_loss: 0.9074\n",
      "Epoch 29/50\n",
      "\u001b[1m2614/2614\u001b[0m \u001b[32m━━━━━━━━━━━━━━━━━━━━\u001b[0m\u001b[37m\u001b[0m \u001b[1m0s\u001b[0m 10ms/step - accuracy: 0.6758 - loss: 0.8648\n",
      "Epoch 29: val_loss did not improve from 0.90034\n",
      "\u001b[1m2614/2614\u001b[0m \u001b[32m━━━━━━━━━━━━━━━━━━━━\u001b[0m\u001b[37m\u001b[0m \u001b[1m28s\u001b[0m 11ms/step - accuracy: 0.6758 - loss: 0.8648 - val_accuracy: 0.6714 - val_loss: 0.9041\n",
      "Epoch 30/50\n",
      "\u001b[1m2612/2614\u001b[0m \u001b[32m━━━━━━━━━━━━━━━━━━━\u001b[0m\u001b[37m━\u001b[0m \u001b[1m0s\u001b[0m 10ms/step - accuracy: 0.6778 - loss: 0.8636\n",
      "Epoch 30: val_loss improved from 0.90034 to 0.89564, saving model to trained_transformer_model.keras\n",
      "\u001b[1m2614/2614\u001b[0m \u001b[32m━━━━━━━━━━━━━━━━━━━━\u001b[0m\u001b[37m\u001b[0m \u001b[1m29s\u001b[0m 11ms/step - accuracy: 0.6778 - loss: 0.8636 - val_accuracy: 0.6763 - val_loss: 0.8956\n",
      "Epoch 31/50\n",
      "\u001b[1m2612/2614\u001b[0m \u001b[32m━━━━━━━━━━━━━━━━━━━\u001b[0m\u001b[37m━\u001b[0m \u001b[1m0s\u001b[0m 11ms/step - accuracy: 0.6798 - loss: 0.8621\n",
      "Epoch 31: val_loss improved from 0.89564 to 0.89232, saving model to trained_transformer_model.keras\n",
      "\u001b[1m2614/2614\u001b[0m \u001b[32m━━━━━━━━━━━━━━━━━━━━\u001b[0m\u001b[37m\u001b[0m \u001b[1m32s\u001b[0m 12ms/step - accuracy: 0.6798 - loss: 0.8621 - val_accuracy: 0.6729 - val_loss: 0.8923\n",
      "Epoch 32/50\n",
      "\u001b[1m2613/2614\u001b[0m \u001b[32m━━━━━━━━━━━━━━━━━━━\u001b[0m\u001b[37m━\u001b[0m \u001b[1m0s\u001b[0m 11ms/step - accuracy: 0.6790 - loss: 0.8563\n",
      "Epoch 32: val_loss improved from 0.89232 to 0.88484, saving model to trained_transformer_model.keras\n",
      "\u001b[1m2614/2614\u001b[0m \u001b[32m━━━━━━━━━━━━━━━━━━━━\u001b[0m\u001b[37m\u001b[0m \u001b[1m31s\u001b[0m 12ms/step - accuracy: 0.6790 - loss: 0.8563 - val_accuracy: 0.6737 - val_loss: 0.8848\n",
      "Epoch 33/50\n",
      "\u001b[1m2611/2614\u001b[0m \u001b[32m━━━━━━━━━━━━━━━━━━━\u001b[0m\u001b[37m━\u001b[0m \u001b[1m0s\u001b[0m 11ms/step - accuracy: 0.6827 - loss: 0.8482\n",
      "Epoch 33: val_loss improved from 0.88484 to 0.87912, saving model to trained_transformer_model.keras\n",
      "\u001b[1m2614/2614\u001b[0m \u001b[32m━━━━━━━━━━━━━━━━━━━━\u001b[0m\u001b[37m\u001b[0m \u001b[1m32s\u001b[0m 12ms/step - accuracy: 0.6827 - loss: 0.8482 - val_accuracy: 0.6827 - val_loss: 0.8791\n",
      "Epoch 34/50\n",
      "\u001b[1m2612/2614\u001b[0m \u001b[32m━━━━━━━━━━━━━━━━━━━\u001b[0m\u001b[37m━\u001b[0m \u001b[1m0s\u001b[0m 11ms/step - accuracy: 0.6826 - loss: 0.8506\n",
      "Epoch 34: val_loss improved from 0.87912 to 0.86215, saving model to trained_transformer_model.keras\n",
      "\u001b[1m2614/2614\u001b[0m \u001b[32m━━━━━━━━━━━━━━━━━━━━\u001b[0m\u001b[37m\u001b[0m \u001b[1m31s\u001b[0m 12ms/step - accuracy: 0.6826 - loss: 0.8506 - val_accuracy: 0.6892 - val_loss: 0.8622\n",
      "Epoch 35/50\n",
      "\u001b[1m2612/2614\u001b[0m \u001b[32m━━━━━━━━━━━━━━━━━━━\u001b[0m\u001b[37m━\u001b[0m \u001b[1m0s\u001b[0m 11ms/step - accuracy: 0.6870 - loss: 0.8443\n",
      "Epoch 35: val_loss did not improve from 0.86215\n",
      "\u001b[1m2614/2614\u001b[0m \u001b[32m━━━━━━━━━━━━━━━━━━━━\u001b[0m\u001b[37m\u001b[0m \u001b[1m31s\u001b[0m 12ms/step - accuracy: 0.6870 - loss: 0.8443 - val_accuracy: 0.6881 - val_loss: 0.8646\n",
      "Epoch 36/50\n",
      "\u001b[1m2614/2614\u001b[0m \u001b[32m━━━━━━━━━━━━━━━━━━━━\u001b[0m\u001b[37m\u001b[0m \u001b[1m0s\u001b[0m 11ms/step - accuracy: 0.6832 - loss: 0.8493\n",
      "Epoch 36: val_loss did not improve from 0.86215\n",
      "\u001b[1m2614/2614\u001b[0m \u001b[32m━━━━━━━━━━━━━━━━━━━━\u001b[0m\u001b[37m\u001b[0m \u001b[1m34s\u001b[0m 13ms/step - accuracy: 0.6832 - loss: 0.8493 - val_accuracy: 0.6888 - val_loss: 0.8633\n",
      "Epoch 37/50\n",
      "\u001b[1m2613/2614\u001b[0m \u001b[32m━━━━━━━━━━━━━━━━━━━\u001b[0m\u001b[37m━\u001b[0m \u001b[1m0s\u001b[0m 11ms/step - accuracy: 0.6895 - loss: 0.8363\n",
      "Epoch 37: val_loss did not improve from 0.86215\n",
      "\u001b[1m2614/2614\u001b[0m \u001b[32m━━━━━━━━━━━━━━━━━━━━\u001b[0m\u001b[37m\u001b[0m \u001b[1m31s\u001b[0m 12ms/step - accuracy: 0.6895 - loss: 0.8363 - val_accuracy: 0.6834 - val_loss: 0.8790\n",
      "Epoch 38/50\n",
      "\u001b[1m2610/2614\u001b[0m \u001b[32m━━━━━━━━━━━━━━━━━━━\u001b[0m\u001b[37m━\u001b[0m \u001b[1m0s\u001b[0m 11ms/step - accuracy: 0.6873 - loss: 0.8369\n",
      "Epoch 38: val_loss did not improve from 0.86215\n",
      "\u001b[1m2614/2614\u001b[0m \u001b[32m━━━━━━━━━━━━━━━━━━━━\u001b[0m\u001b[37m\u001b[0m \u001b[1m31s\u001b[0m 12ms/step - accuracy: 0.6873 - loss: 0.8369 - val_accuracy: 0.6875 - val_loss: 0.8689\n",
      "Epoch 39/50\n",
      "\u001b[1m2613/2614\u001b[0m \u001b[32m━━━━━━━━━━━━━━━━━━━\u001b[0m\u001b[37m━\u001b[0m \u001b[1m0s\u001b[0m 10ms/step - accuracy: 0.6921 - loss: 0.8262\n",
      "Epoch 39: val_loss did not improve from 0.86215\n",
      "\u001b[1m2614/2614\u001b[0m \u001b[32m━━━━━━━━━━━━━━━━━━━━\u001b[0m\u001b[37m\u001b[0m \u001b[1m28s\u001b[0m 11ms/step - accuracy: 0.6921 - loss: 0.8262 - val_accuracy: 0.6874 - val_loss: 0.8739\n",
      "Epoch 40/50\n",
      "\u001b[1m2614/2614\u001b[0m \u001b[32m━━━━━━━━━━━━━━━━━━━━\u001b[0m\u001b[37m\u001b[0m \u001b[1m0s\u001b[0m 10ms/step - accuracy: 0.6923 - loss: 0.8233\n",
      "Epoch 40: val_loss did not improve from 0.86215\n",
      "\u001b[1m2614/2614\u001b[0m \u001b[32m━━━━━━━━━━━━━━━━━━━━\u001b[0m\u001b[37m\u001b[0m \u001b[1m28s\u001b[0m 11ms/step - accuracy: 0.6923 - loss: 0.8233 - val_accuracy: 0.6866 - val_loss: 0.8689\n",
      "Epoch 41/50\n",
      "\u001b[1m2609/2614\u001b[0m \u001b[32m━━━━━━━━━━━━━━━━━━━\u001b[0m\u001b[37m━\u001b[0m \u001b[1m0s\u001b[0m 10ms/step - accuracy: 0.6902 - loss: 0.8243\n",
      "Epoch 41: val_loss improved from 0.86215 to 0.85248, saving model to trained_transformer_model.keras\n",
      "\u001b[1m2614/2614\u001b[0m \u001b[32m━━━━━━━━━━━━━━━━━━━━\u001b[0m\u001b[37m\u001b[0m \u001b[1m30s\u001b[0m 11ms/step - accuracy: 0.6903 - loss: 0.8243 - val_accuracy: 0.6913 - val_loss: 0.8525\n",
      "Epoch 42/50\n",
      "\u001b[1m2613/2614\u001b[0m \u001b[32m━━━━━━━━━━━━━━━━━━━\u001b[0m\u001b[37m━\u001b[0m \u001b[1m0s\u001b[0m 11ms/step - accuracy: 0.6944 - loss: 0.8191\n",
      "Epoch 42: val_loss improved from 0.85248 to 0.84957, saving model to trained_transformer_model.keras\n",
      "\u001b[1m2614/2614\u001b[0m \u001b[32m━━━━━━━━━━━━━━━━━━━━\u001b[0m\u001b[37m\u001b[0m \u001b[1m32s\u001b[0m 12ms/step - accuracy: 0.6944 - loss: 0.8191 - val_accuracy: 0.6938 - val_loss: 0.8496\n",
      "Epoch 43/50\n",
      "\u001b[1m2609/2614\u001b[0m \u001b[32m━━━━━━━━━━━━━━━━━━━\u001b[0m\u001b[37m━\u001b[0m \u001b[1m0s\u001b[0m 10ms/step - accuracy: 0.7001 - loss: 0.8091\n",
      "Epoch 43: val_loss did not improve from 0.84957\n",
      "\u001b[1m2614/2614\u001b[0m \u001b[32m━━━━━━━━━━━━━━━━━━━━\u001b[0m\u001b[37m\u001b[0m \u001b[1m28s\u001b[0m 11ms/step - accuracy: 0.7001 - loss: 0.8091 - val_accuracy: 0.6921 - val_loss: 0.8603\n",
      "Epoch 44/50\n",
      "\u001b[1m2614/2614\u001b[0m \u001b[32m━━━━━━━━━━━━━━━━━━━━\u001b[0m\u001b[37m\u001b[0m \u001b[1m0s\u001b[0m 10ms/step - accuracy: 0.6967 - loss: 0.8160\n",
      "Epoch 44: val_loss improved from 0.84957 to 0.84372, saving model to trained_transformer_model.keras\n",
      "\u001b[1m2614/2614\u001b[0m \u001b[32m━━━━━━━━━━━━━━━━━━━━\u001b[0m\u001b[37m\u001b[0m \u001b[1m28s\u001b[0m 11ms/step - accuracy: 0.6967 - loss: 0.8160 - val_accuracy: 0.6971 - val_loss: 0.8437\n",
      "Epoch 45/50\n",
      "\u001b[1m2612/2614\u001b[0m \u001b[32m━━━━━━━━━━━━━━━━━━━\u001b[0m\u001b[37m━\u001b[0m \u001b[1m0s\u001b[0m 10ms/step - accuracy: 0.6964 - loss: 0.8161\n",
      "Epoch 45: val_loss did not improve from 0.84372\n",
      "\u001b[1m2614/2614\u001b[0m \u001b[32m━━━━━━━━━━━━━━━━━━━━\u001b[0m\u001b[37m\u001b[0m \u001b[1m30s\u001b[0m 11ms/step - accuracy: 0.6964 - loss: 0.8161 - val_accuracy: 0.6966 - val_loss: 0.8473\n",
      "Epoch 46/50\n",
      "\u001b[1m2611/2614\u001b[0m \u001b[32m━━━━━━━━━━━━━━━━━━━\u001b[0m\u001b[37m━\u001b[0m \u001b[1m0s\u001b[0m 10ms/step - accuracy: 0.7018 - loss: 0.8012\n",
      "Epoch 46: val_loss did not improve from 0.84372\n",
      "\u001b[1m2614/2614\u001b[0m \u001b[32m━━━━━━━━━━━━━━━━━━━━\u001b[0m\u001b[37m\u001b[0m \u001b[1m29s\u001b[0m 11ms/step - accuracy: 0.7018 - loss: 0.8012 - val_accuracy: 0.6893 - val_loss: 0.8509\n",
      "Epoch 47/50\n",
      "\u001b[1m2614/2614\u001b[0m \u001b[32m━━━━━━━━━━━━━━━━━━━━\u001b[0m\u001b[37m\u001b[0m \u001b[1m0s\u001b[0m 10ms/step - accuracy: 0.7014 - loss: 0.8031\n",
      "Epoch 47: val_loss did not improve from 0.84372\n",
      "\u001b[1m2614/2614\u001b[0m \u001b[32m━━━━━━━━━━━━━━━━━━━━\u001b[0m\u001b[37m\u001b[0m \u001b[1m29s\u001b[0m 11ms/step - accuracy: 0.7014 - loss: 0.8031 - val_accuracy: 0.6887 - val_loss: 0.8748\n",
      "Epoch 48/50\n",
      "\u001b[1m2612/2614\u001b[0m \u001b[32m━━━━━━━━━━━━━━━━━━━\u001b[0m\u001b[37m━\u001b[0m \u001b[1m0s\u001b[0m 11ms/step - accuracy: 0.6988 - loss: 0.8051\n",
      "Epoch 48: val_loss did not improve from 0.84372\n",
      "\u001b[1m2614/2614\u001b[0m \u001b[32m━━━━━━━━━━━━━━━━━━━━\u001b[0m\u001b[37m\u001b[0m \u001b[1m30s\u001b[0m 12ms/step - accuracy: 0.6988 - loss: 0.8050 - val_accuracy: 0.6933 - val_loss: 0.8528\n",
      "Epoch 49/50\n",
      "\u001b[1m2614/2614\u001b[0m \u001b[32m━━━━━━━━━━━━━━━━━━━━\u001b[0m\u001b[37m\u001b[0m \u001b[1m0s\u001b[0m 11ms/step - accuracy: 0.7051 - loss: 0.7934\n",
      "Epoch 49: val_loss did not improve from 0.84372\n",
      "\u001b[1m2614/2614\u001b[0m \u001b[32m━━━━━━━━━━━━━━━━━━━━\u001b[0m\u001b[37m\u001b[0m \u001b[1m30s\u001b[0m 12ms/step - accuracy: 0.7051 - loss: 0.7934 - val_accuracy: 0.6928 - val_loss: 0.8574\n",
      "Epoch 50/50\n",
      "\u001b[1m2611/2614\u001b[0m \u001b[32m━━━━━━━━━━━━━━━━━━━\u001b[0m\u001b[37m━\u001b[0m \u001b[1m0s\u001b[0m 10ms/step - accuracy: 0.7001 - loss: 0.7988\n",
      "Epoch 50: val_loss improved from 0.84372 to 0.84228, saving model to trained_transformer_model.keras\n",
      "\u001b[1m2614/2614\u001b[0m \u001b[32m━━━━━━━━━━━━━━━━━━━━\u001b[0m\u001b[37m\u001b[0m \u001b[1m29s\u001b[0m 11ms/step - accuracy: 0.7001 - loss: 0.7988 - val_accuracy: 0.6997 - val_loss: 0.8423\n",
      "Restoring model weights from the end of the best epoch: 50.\n"
     ]
    }
   ],
   "source": [
    "# Fit the model\n",
    "transformer_history = transformer_model.fit(\n",
    "    train_dataset,\n",
    "    validation_data=val_dataset,\n",
    "    epochs=50,\n",
    "    callbacks=[transformer_early_stop, transformer_checkpoint]\n",
    ")"
   ]
  },
  {
   "cell_type": "code",
   "execution_count": 27,
   "id": "0ffea008",
   "metadata": {},
   "outputs": [
    {
     "name": "stdout",
     "output_type": "stream",
     "text": [
      "\u001b[1m654/654\u001b[0m \u001b[32m━━━━━━━━━━━━━━━━━━━━\u001b[0m\u001b[37m\u001b[0m \u001b[1m3s\u001b[0m 4ms/step - accuracy: 0.7015 - loss: 0.8317\n",
      "Validation Loss: 0.8423\n",
      "Validation Accuracy: 0.6997\n",
      "\u001b[1m654/654\u001b[0m \u001b[32m━━━━━━━━━━━━━━━━━━━━\u001b[0m\u001b[37m\u001b[0m \u001b[1m3s\u001b[0m 4ms/step\n",
      "Sklearn Accuracy: 0.6997\n",
      "\n",
      "Classification Report:\n",
      "                                                                  precision    recall  f1-score   support\n",
      "\n",
      "                                 1 (FACING camera) Sit and stand       0.75      0.60      0.67        88\n",
      "      10 Slow walk (SHAKING hands/body, tiny step, head forward)       0.79      0.74      0.76      5035\n",
      "         2 (FACING camera) both hands SHAKING (sitting position)       0.78      0.80      0.79      2090\n",
      "                 3 Stand up from chair - both hands with SHAKING       0.70      0.66      0.68      2179\n",
      "                                         4 (Sideway) Sit & stand       0.60      0.55      0.58      1543\n",
      "                        5 (Sideway) both hands SHAKING (sitting)       0.60      0.73      0.66      1335\n",
      "                  6 (Sideway) STAND up with - both hands SHAKING       0.62      0.63      0.62      1873\n",
      "                                     7 Cool down - sitting/relax       0.78      0.66      0.71       816\n",
      "                                8 Walk (LEFT --> Right --> Left)       0.68      0.61      0.64      1452\n",
      "9 Walk & STOP/frozen, full body shaking, rotate then return back       0.66      0.75      0.70      4497\n",
      "\n",
      "                                                        accuracy                           0.70     20908\n",
      "                                                       macro avg       0.70      0.67      0.68     20908\n",
      "                                                    weighted avg       0.70      0.70      0.70     20908\n",
      "\n",
      "\n",
      "Confusion Matrix:\n",
      "[[  53    4    3    5    2    5    1    0    6    9]\n",
      " [   3 3702  168  163   67   77  147   18  113  577]\n",
      " [   0  102 1678   41   24   39   73    6   20  107]\n",
      " [   0  115   32 1431  122   94   84   22   38  241]\n",
      " [   0  101   53   74  854  124   89   32   29  187]\n",
      " [   0   39   50   23  111  969   23   10   10  100]\n",
      " [   5  125   61   88   49   89 1173   22   26  235]\n",
      " [   0   37   24   23   30   15   45  535   47   60]\n",
      " [   3  102   25   63   65   40   57   27  882  188]\n",
      " [   7  366   62  119   93  161  203   16  118 3352]]\n"
     ]
    }
   ],
   "source": [
    "from sklearn.metrics import classification_report, confusion_matrix, accuracy_score\n",
    "import numpy as np\n",
    "\n",
    "# Evaluate on validation set\n",
    "val_loss, val_accuracy = transformer_model.evaluate(val_dataset, verbose=1)\n",
    "print(f\"Validation Loss: {val_loss:.4f}\")\n",
    "print(f\"Validation Accuracy: {val_accuracy:.4f}\")\n",
    "\n",
    "# Get predictions\n",
    "y_pred_probs = transformer_model.predict(val_dataset)\n",
    "y_pred = np.argmax(y_pred_probs, axis=1)\n",
    "\n",
    "# Collect true labels from validation dataset\n",
    "y_true = []\n",
    "for _, labels in val_dataset:\n",
    "    y_true.extend(labels.numpy())\n",
    "y_true = np.array(y_true)\n",
    "\n",
    "# Compute Accuracy (again for consistency)\n",
    "acc = accuracy_score(y_true, y_pred)\n",
    "print(f\"Sklearn Accuracy: {acc:.4f}\")\n",
    "\n",
    "# Classification Report (Precision, Recall, F1-score for each class)\n",
    "print(\"\\nClassification Report:\")\n",
    "print(classification_report(y_true, y_pred, target_names=label_encoder.classes_))\n",
    "\n",
    "# Confusion Matrix\n",
    "print(\"\\nConfusion Matrix:\")\n",
    "print(confusion_matrix(y_true, y_pred))"
   ]
  },
  {
   "cell_type": "markdown",
   "id": "61bd71ab",
   "metadata": {},
   "source": [
    "**Accuracy Plotting**"
   ]
  },
  {
   "cell_type": "code",
   "execution_count": 25,
   "id": "ebdea7ca",
   "metadata": {},
   "outputs": [
    {
     "data": {
      "image/png": "[encoded data removed]",
      "text/plain": [
       "<Figure size 640x480 with 1 Axes>"
      ]
     },
     "metadata": {},
     "output_type": "display_data"
    }
   ],
   "source": [
    "import matplotlib.pyplot as plt\n",
    "\n",
    "# Plot accuracy \n",
    "plt.plot(transformer_history.history['accuracy'], label='Train Acc')\n",
    "plt.plot(transformer_history.history['val_accuracy'], label='Val Acc')\n",
    "plt.xlabel(\"Epoch\")\n",
    "plt.ylabel(\"Accuracy\")\n",
    "plt.legend()\n",
    "plt.title(\"Training vs Validation Performance\")\n",
    "plt.show()"
   ]
  },
  {
   "cell_type": "code",
   "execution_count": 26,
   "id": "ba9989dd",
   "metadata": {},
   "outputs": [
    {
     "data": {
      "image/png": "[encoded data removed]",
      "text/plain": [
       "<Figure size 640x480 with 1 Axes>"
      ]
     },
     "metadata": {},
     "output_type": "display_data"
    }
   ],
   "source": [
    "# Plot loss\n",
    "plt.plot(transformer_history.history['loss'], label='Train Loss')\n",
    "plt.plot(transformer_history.history['val_loss'], label='Val Loss')\n",
    "plt.xlabel(\"Epoch\")\n",
    "plt.ylabel(\"Loss\")\n",
    "plt.legend()\n",
    "plt.title(\"Training vs Validation Performance\")\n",
    "plt.show()"
   ]
  },
  {
   "cell_type": "code",
   "execution_count": 24,
   "id": "cbbf6ae5",
   "metadata": {},
   "outputs": [],
   "source": [
    "transformer_model.save('trained_transformer_model.keras')"
   ]
  },
  {
   "cell_type": "code",
   "execution_count": null,
   "id": "08c37838",
   "metadata": {},
   "outputs": [],
   "source": []
  }
 ],
 "metadata": {
  "kernelspec": {
   "display_name": ".venv",
   "language": "python",
   "name": "python3"
  },
  "language_info": {
   "codemirror_mode": {
    "name": "ipython",
    "version": 3
   },
   "file_extension": ".py",
   "mimetype": "text/x-python",
   "name": "python",
   "nbconvert_exporter": "python",
   "pygments_lexer": "ipython3",
   "version": "3.12.5"
  }
 },
 "nbformat": 4,
 "nbformat_minor": 5
}
